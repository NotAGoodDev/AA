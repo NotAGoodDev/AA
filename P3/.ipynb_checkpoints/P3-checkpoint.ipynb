{
 "cells": [
  {
   "cell_type": "markdown",
   "metadata": {},
   "source": [
    "## IMPORTS"
   ]
  },
  {
   "cell_type": "code",
   "execution_count": 1,
   "metadata": {},
   "outputs": [],
   "source": [
    "from scipy.io import loadmat\n",
    "import numpy as np\n",
    "import matplotlib.pyplot as plt\n",
    "import scipy.optimize as opt"
   ]
  },
  {
   "cell_type": "markdown",
   "metadata": {},
   "source": [
    "# CLASIFICADOR"
   ]
  },
  {
   "cell_type": "markdown",
   "metadata": {},
   "source": [
    "## CARGAR DATOS"
   ]
  },
  {
   "cell_type": "code",
   "execution_count": 2,
   "metadata": {},
   "outputs": [],
   "source": [
    "data = loadmat('ex3data1.mat')\n",
    "Y = data['y'].ravel()\n",
    "X = data['X']\n",
    "\n",
    "m = X.shape[0]"
   ]
  },
  {
   "cell_type": "markdown",
   "metadata": {},
   "source": [
    "## MUESTRA ALEATORIA"
   ]
  },
  {
   "cell_type": "code",
   "execution_count": 3,
   "metadata": {},
   "outputs": [
    {
     "data": {
      "image/png": "[encoded data removed]",
      "text/plain": [
       "<Figure size 432x288 with 1 Axes>"
      ]
     },
     "metadata": {
      "needs_background": "light"
     },
     "output_type": "display_data"
    }
   ],
   "source": [
    "sample = np.random.choice(X.shape[0], 10)\n",
    "plt.imshow(X[sample, :].reshape(-1, 20).T)\n",
    "plt.axis('off')\n",
    "\n",
    "X = np.hstack([np.ones([m, 1]), X])\n",
    "n = X.shape[1]\n",
    "theta = np.zeros(n)"
   ]
  },
  {
   "cell_type": "markdown",
   "metadata": {},
   "source": [
    "## FUNCIÓN SIGMOIDE"
   ]
  },
  {
   "cell_type": "code",
   "execution_count": 4,
   "metadata": {},
   "outputs": [],
   "source": [
    "def sigmoid(z):\n",
    "    return 1 / (1 + np.exp(-z))"
   ]
  },
  {
   "cell_type": "markdown",
   "metadata": {},
   "source": [
    "## FUNCIÓN DE COSTE"
   ]
  },
  {
   "cell_type": "code",
   "execution_count": 5,
   "metadata": {},
   "outputs": [],
   "source": [
    "def coste(theta, X, Y, lam):\n",
    "    m = X.shape[0]\n",
    "    n = X.shape[1]\n",
    "\n",
    "    \n",
    "    h_theta = np.dot(X, theta)\n",
    "    sig = sigmoid(h_theta)\n",
    "    positive = np.dot(np.log(sig).T, Y)\n",
    "    negative = np.dot(np.log(1 - sig).T, 1 - Y)\n",
    "    J_theta = (-1 / m) * (positive + negative)\n",
    "    \n",
    "    # Regularizacion\n",
    "    reg = (lam /(2 * m)) * np.sum(np.square(theta))\n",
    "    \n",
    "    # Coste Regularizado\n",
    "    J_theta += reg\n",
    "    \n",
    "    return J_theta"
   ]
  },
  {
   "cell_type": "markdown",
   "metadata": {},
   "source": [
    "## GRADIENTE"
   ]
  },
  {
   "cell_type": "code",
   "execution_count": 6,
   "metadata": {},
   "outputs": [],
   "source": [
    "def gradiente(theta, X, Y, lam):\n",
    "    m = X.shape[0]\n",
    "    n = X.shape[1]\n",
    "    \n",
    "    h_theta = np.dot(X, theta.T)\n",
    "    sig = sigmoid(h_theta)\n",
    "    gradient = (1/m) * np.dot(sig.T - Y, X)\n",
    "    \n",
    "    # Regularizacion\n",
    "    reg = (lam / m) * theta\n",
    "    \n",
    "    # Gradiente Regularizada\n",
    "    gradient += reg\n",
    "    \n",
    "    return gradient"
   ]
  },
  {
   "cell_type": "markdown",
   "metadata": {},
   "source": [
    "## ONE VS ALL"
   ]
  },
  {
   "cell_type": "code",
   "execution_count": 7,
   "metadata": {},
   "outputs": [],
   "source": [
    "def oneVsAll(X, Y, num_etiquetas, reg):\n",
    "    \"\"\"\n",
    "    oneVsAll entrena varios clasificadores por regresión logistica\n",
    "    con término de regularización 'reg' y devuelve el resultado en\n",
    "    una matriz, donde la fila i-ésima corresponde al clasificador\n",
    "    de la etiqueta i-ésima\n",
    "    \"\"\"\n",
    "    \n",
    "    resultado = []\n",
    "    \n",
    "    for i in range(1, num_etiquetas + 1):\n",
    "\n",
    "        Y_aux = (Y == i) * 1\n",
    "\n",
    "        theta_optima, _, _ = opt.fmin_tnc(\n",
    "            func=coste,\n",
    "            x0 = theta,\n",
    "            fprime=gradiente,\n",
    "            args=(X, Y_aux, 1)\n",
    "        )\n",
    "        \n",
    "        resultado.append(theta_optima)\n",
    "        \n",
    "    return np.array(resultado).T\n",
    "        \n",
    "\n",
    "theta_opt = oneVsAll(X, Y, 10, 0.1)"
   ]
  },
  {
   "cell_type": "markdown",
   "metadata": {},
   "source": [
    "## PREDICCIÓN"
   ]
  },
  {
   "cell_type": "code",
   "execution_count": 8,
   "metadata": {},
   "outputs": [],
   "source": [
    "def predecir(X, Y, theta):\n",
    "    Y_hat = []\n",
    "    for i in range(X.shape[0]):\n",
    "        ejemplo = X[i]\n",
    "        resultados = np.dot(ejemplo.T, theta)\n",
    "        num = np.argmax(resultados) + 1   # Va de 0 a 9, no de 1 a 10 -> +1 \n",
    "        Y_hat.append(num)\n",
    "        \n",
    "    return np.array(Y_hat)"
   ]
  },
  {
   "cell_type": "markdown",
   "metadata": {},
   "source": [
    "## PRECISIÓN"
   ]
  },
  {
   "cell_type": "code",
   "execution_count": 58,
   "metadata": {},
   "outputs": [],
   "source": [
    "def precision(X, Y, theta):\n",
    "    Y_hat = predecir(X, Y, theta)\n",
    "    \n",
    "    return np.round(\n",
    "        np.sum(Y_hat == Y) / m * 100,\n",
    "        decimals = 2\n",
    "    )"
   ]
  },
  {
   "cell_type": "markdown",
   "metadata": {},
   "source": [
    "## MOSTRAR PRECISIÓN"
   ]
  },
  {
   "cell_type": "code",
   "execution_count": 10,
   "metadata": {},
   "outputs": [
    {
     "name": "stdout",
     "output_type": "stream",
     "text": [
      "La precisión del Clasificador es de aproximadamente un: 94.4%\n"
     ]
    }
   ],
   "source": [
    "print(\"La precisión del Clasificador es de aproximadamente un: {}%\".format(precision(X, Y, theta_opt)))"
   ]
  },
  {
   "cell_type": "markdown",
   "metadata": {},
   "source": [
    "# RED NEURONAL"
   ]
  },
  {
   "cell_type": "code",
   "execution_count": null,
   "metadata": {},
   "outputs": [],
   "source": []
  },
  {
   "cell_type": "markdown",
   "metadata": {},
   "source": [
    "## CARGAR DATOS"
   ]
  },
  {
   "cell_type": "code",
   "execution_count": 24,
   "metadata": {},
   "outputs": [],
   "source": [
    "data = loadmat('ex3data1.mat')\n",
    "Y = data['y'].ravel()\n",
    "X = data['X']\n",
    "w = loadmat('ex3weights.mat')\n",
    "\n"
   ]
  },
  {
   "cell_type": "code",
   "execution_count": 85,
   "metadata": {},
   "outputs": [],
   "source": [
    "def forward_prop(X, Y, w):\n",
    "    a1 = X\n",
    "    a1 = np.hstack([np.ones([X.shape[0], 1]), a1])\n",
    "\n",
    "    z2 = np.dot(w['Theta1'], a1.T)\n",
    "    a2 = sigmoid(z2).T\n",
    "    a2 = np.hstack([np.ones([a2.shape[0], 1]), a2])\n",
    "\n",
    "    z3 = np.dot(w['Theta2'], a2.T)\n",
    "    a3 = sigmoid(z3).T\n",
    "\n",
    "    return a3"
   ]
  },
  {
   "cell_type": "code",
   "execution_count": 86,
   "metadata": {},
   "outputs": [],
   "source": [
    "def predecir_nn(X, Y, w):\n",
    "    Y_hat = []\n",
    "    \n",
    "    pred = forward_prop(X, Y, w)\n",
    "    \n",
    "    for i in range(theta.shape[0]):\n",
    "        ejemplo = pred[i]\n",
    "        num = np.argmax(ejemplo) + 1    # Va de 0 a 9, no de 1 a 10 -> +1\n",
    "        Y_hat.append(num)\n",
    "    \n",
    "    return np.array(Y_hat)"
   ]
  },
  {
   "cell_type": "code",
   "execution_count": 89,
   "metadata": {},
   "outputs": [],
   "source": [
    "def precision_nn(X, Y, w):\n",
    "    Y_hat = predecir_nn(X, Y, w)\n",
    "        \n",
    "    return np.round(\n",
    "        np.sum(Y_hat == Y) / m * 100,\n",
    "        decimals = 2\n",
    "    )"
   ]
  },
  {
   "cell_type": "code",
   "execution_count": 90,
   "metadata": {},
   "outputs": [
    {
     "name": "stdout",
     "output_type": "stream",
     "text": [
      "(5000,)\n"
     ]
    },
    {
     "name": "stderr",
     "output_type": "stream",
     "text": [
      "<ipython-input-89-b44a5526e2fd>:7: DeprecationWarning: elementwise comparison failed; this will raise an error in the future.\n",
      "  np.sum(Y_hat == Y) / m * 100,\n"
     ]
    },
    {
     "data": {
      "text/plain": [
       "0.0"
      ]
     },
     "execution_count": 90,
     "metadata": {},
     "output_type": "execute_result"
    }
   ],
   "source": [
    "precision_nn(X, Y, w)"
   ]
  }
 ],
 "metadata": {
  "kernelspec": {
   "display_name": "Python 3",
   "language": "python",
   "name": "python3"
  },
  "language_info": {
   "codemirror_mode": {
    "name": "ipython",
    "version": 3
   },
   "file_extension": ".py",
   "mimetype": "text/x-python",
   "name": "python",
   "nbconvert_exporter": "python",
   "pygments_lexer": "ipython3",
   "version": "3.8.5"
  }
 },
 "nbformat": 4,
 "nbformat_minor": 2
}
