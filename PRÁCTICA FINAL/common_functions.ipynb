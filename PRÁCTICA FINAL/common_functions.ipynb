{
 "cells": [
  {
   "cell_type": "markdown",
   "id": "narrow-uniform",
   "metadata": {},
   "source": [
    "# ESTE ARCHIVO CONTIENE FUNCIONES COMUNES DE LOS CLASIFICADORES"
   ]
  },
  {
   "cell_type": "code",
   "execution_count": 2,
   "id": "renewable-tattoo",
   "metadata": {},
   "outputs": [],
   "source": [
    "import numpy as np"
   ]
  },
  {
   "cell_type": "code",
   "execution_count": 1,
   "id": "finnish-jimmy",
   "metadata": {},
   "outputs": [],
   "source": [
    "def sigmoid(z):\n",
    "    \"\"\"\n",
    "    Función sigmoide\n",
    "    recibe como entrada un número / array\n",
    "    devuelve la función sigmoide\n",
    "    \"\"\"\n",
    "    return 1 / (1 + np.exp(-z))"
   ]
  }
 ],
 "metadata": {
  "kernelspec": {
   "display_name": "Python 3",
   "language": "python",
   "name": "python3"
  },
  "language_info": {
   "codemirror_mode": {
    "name": "ipython",
    "version": 3
   },
   "file_extension": ".py",
   "mimetype": "text/x-python",
   "name": "python",
   "nbconvert_exporter": "python",
   "pygments_lexer": "ipython3",
   "version": "3.8.5"
  }
 },
 "nbformat": 4,
 "nbformat_minor": 5
}
