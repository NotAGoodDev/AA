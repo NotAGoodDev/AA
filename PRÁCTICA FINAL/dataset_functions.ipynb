{
 "cells": [
  {
   "cell_type": "markdown",
   "id": "demanding-consortium",
   "metadata": {},
   "source": [
    "# ESTE ARCHIVO CONTIENE FUNCIONES QUE PERMITEN LEER Y MODIFICAR EL FORMATO DE LAS 'X' E 'Y'"
   ]
  },
  {
   "cell_type": "code",
   "execution_count": 1,
   "id": "bigger-discharge",
   "metadata": {},
   "outputs": [],
   "source": [
    "import numpy as np\n",
    "\n",
    "from pandas.io.parsers import read_csv\n",
    "from sklearn.preprocessing import LabelEncoder"
   ]
  },
  {
   "cell_type": "code",
   "execution_count": 2,
   "id": "southwest-interface",
   "metadata": {},
   "outputs": [],
   "source": [
    "def read_dataset():\n",
    "    \"\"\"\n",
    "    Lee el dataset 'mushrooms.csv' y devuelve los datos\n",
    "    divididos en X e Y\n",
    "    \"\"\"\n",
    "    df = read_csv(\"mushrooms.csv\")\n",
    "    data = df.sample(frac = 1).to_numpy()          # SHUFFLE DATA\n",
    "\n",
    "    X = np.array(data[:, 1:])\n",
    "    Y = np.array(data[:, 0])\n",
    "    \n",
    "    return X, Y"
   ]
  },
  {
   "cell_type": "code",
   "execution_count": 3,
   "id": "authentic-burning",
   "metadata": {},
   "outputs": [],
   "source": [
    "def onehot(Y):\n",
    "    \"\"\"\n",
    "    A partir de un vector, normalmente de resultados, se aplica\n",
    "    una codificación onehot y la devuelve en números enteros\n",
    "    \n",
    "    Por ejemplo:\n",
    "    Y = [1, 2, 3, 1]\n",
    "    \n",
    "    Y_ONEHOT = [\n",
    "        [1,0,0]\n",
    "        [0,1,0]\n",
    "        [0,0,1]\n",
    "        [1,0,0]\n",
    "    ]\n",
    "    \n",
    "    \"\"\"\n",
    "    \n",
    "    le = LabelEncoder()\n",
    "    labels = le.fit(Y[:]).classes_\n",
    "    m = len(Y)\n",
    "    \n",
    "    Y = (Y - 1)\n",
    "    Y_onehot = np.zeros((m, labels.shape[0]))\n",
    "    \n",
    "    for i in range(len(Y)):\n",
    "        Y_onehot[i, int(Y[i])] = 1\n",
    "\n",
    "    return Y_onehot.astype(int)"
   ]
  },
  {
   "cell_type": "code",
   "execution_count": 4,
   "id": "opening-physiology",
   "metadata": {},
   "outputs": [],
   "source": [
    "def manage_data(X, Y, use_onehot = False):\n",
    "    \"\"\"\n",
    "    Función que recibe como parámetros de entrada X, Y, y un booleano\n",
    "    que transforma la Y a onehot para transformar los valores de dichos\n",
    "    parámetros a int\n",
    "    Devuelve la X y la Y en el formato deseado \n",
    "    \"\"\"\n",
    "    X = string2int(X, X.shape[1])    # OBLIGATORIO EXP CON FLOATS\n",
    "    Y = string2int(Y)\n",
    "    \n",
    "    if use_onehot:\n",
    "        Y = onehot(Y)\n",
    "\n",
    "    X = np.hstack([np.ones([X.shape[0], 1], dtype=float), X])\n",
    "    \n",
    "    return X, Y"
   ]
  },
  {
   "cell_type": "code",
   "execution_count": 5,
   "id": "subsequent-market",
   "metadata": {},
   "outputs": [],
   "source": [
    "def string2int(v, dim = 0):\n",
    "    \"\"\"\n",
    "    Recibe como entrada un array de strings y las dimensiones que tiene,\n",
    "    devuelve el mismo array con los strings cambiados a int, por ejemplo:\n",
    "        ENTRADA:   ['A', 'B', 'C', 'A']\n",
    "        SALIDA:    [0, 1, 2, 1]\n",
    "    \"\"\"\n",
    "    le = LabelEncoder()\n",
    "\n",
    "    if dim == 0:\n",
    "        le.fit(v[:]).classes_      # 0 = EDIBLE\n",
    "        v = le.transform(v)        # 1 = POISONOUS\n",
    "        \n",
    "    else:\n",
    "        for i in range(0, dim):\n",
    "            le.fit(v[:, i]).classes_\n",
    "            v[:, i] = le.transform(v[:, i])\n",
    "    \n",
    "    return v.astype(float)"
   ]
  },
  {
   "cell_type": "code",
   "execution_count": 6,
   "id": "specific-volunteer",
   "metadata": {},
   "outputs": [],
   "source": [
    "def encode_example(example):\n",
    "    \"\"\"\n",
    "    A partir de un ejemplo (Array de chars o strings) se devuelve\n",
    "    un array de numeros codificados\n",
    "    Por ejemplo:\n",
    "        ENTRADA:   ['A', 'B', 'C', 'A']\n",
    "        SALIDA:    [0, 1, 4, 0]\n",
    "    \"\"\"\n",
    "    example = np.array([example])\n",
    "    X, _ = read_dataset()\n",
    "    le = LabelEncoder()\n",
    "    \n",
    "\n",
    "    for i in range(0, example.shape[1]):\n",
    "        le.fit(X[:, i]).classes_\n",
    "        example[:, i] = le.transform(example[:, i])\n",
    "    \n",
    "    example = np.hstack([1, example[0]])     # 'ONES COLUMN\n",
    "    \n",
    "    return example.astype(float).ravel()\n",
    "\n",
    "# e = np.array(['x','s','n','t',\n",
    "#               'p','f','c','n','k',\n",
    "#               'e','e','s','s','w',\n",
    "#               'w','p','w','o','p',\n",
    "#               'k','s','u'])\n",
    "# e = encode_example(e)\n",
    "# print(e)"
   ]
  },
  {
   "cell_type": "code",
   "execution_count": 7,
   "id": "baking-indian",
   "metadata": {},
   "outputs": [],
   "source": [
    "def divide_dataset(X, Y, train_set = 0.8, cv_set = 0.1, test_set=0.1):\n",
    "    \"\"\"\n",
    "    Divide el dataset con porcentajes que entran como parámetro, por ejemplo:\n",
    "        Train_set = 80%\n",
    "        Cv_set = 10%\n",
    "        Test_set = 10%\n",
    "    Devuelve el dataset dividido en Train set y Test set\n",
    "    \"\"\"\n",
    "\n",
    "    train_set_size = int(train_set * X.shape[0])\n",
    "    cv_set_size = int(cv_set * X.shape[0])\n",
    "\n",
    "    X_train = X[:train_set_size, :]\n",
    "    X_cv = X[train_set_size:train_set_size + cv_set_size, :]\n",
    "    X_test = X[train_set_size + cv_set_size:, :]\n",
    "\n",
    "    Y_train = Y[:train_set_size]\n",
    "    Y_cv = Y[train_set_size:train_set_size + cv_set_size]\n",
    "    Y_test = Y[train_set_size + cv_set_size:]\n",
    "    \n",
    "    return X_train, Y_train, X_cv, Y_cv, X_test, Y_test"
   ]
  }
 ],
 "metadata": {
  "kernelspec": {
   "display_name": "Python 3",
   "language": "python",
   "name": "python3"
  },
  "language_info": {
   "codemirror_mode": {
    "name": "ipython",
    "version": 3
   },
   "file_extension": ".py",
   "mimetype": "text/x-python",
   "name": "python",
   "nbconvert_exporter": "python",
   "pygments_lexer": "ipython3",
   "version": "3.8.5"
  }
 },
 "nbformat": 4,
 "nbformat_minor": 5
}
