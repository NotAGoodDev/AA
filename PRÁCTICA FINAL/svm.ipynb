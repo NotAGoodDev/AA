{
 "cells": [
  {
   "cell_type": "markdown",
   "id": "atlantic-canadian",
   "metadata": {},
   "source": [
    "# IMPORTS"
   ]
  },
  {
   "cell_type": "code",
   "execution_count": null,
   "id": "outside-dictionary",
   "metadata": {},
   "outputs": [],
   "source": [
    "import numpy as np\n",
    "import matplotlib.pyplot as plt\n",
    "\n",
    "from dataset_functions import *\n",
    "from common_functions import *\n",
    "\n",
    "from sklearn.svm import SVC\n",
    "from joblib import dump, load\n",
    "from sklearn.metrics import accuracy_score"
   ]
  },
  {
   "cell_type": "markdown",
   "id": "anticipated-fundamentals",
   "metadata": {},
   "source": [
    "# SUPPORT VECTOR MACHINE"
   ]
  },
  {
   "cell_type": "markdown",
   "id": "earned-international",
   "metadata": {},
   "source": [
    "## FUNCTIONS"
   ]
  },
  {
   "cell_type": "markdown",
   "id": "other-spectrum",
   "metadata": {},
   "source": [
    "### CHOOSE OPTIMAL VALUES FUNCTION"
   ]
  },
  {
   "cell_type": "code",
   "execution_count": 20,
   "id": "expanded-space",
   "metadata": {},
   "outputs": [],
   "source": [
    "def print_parameters(values, hit_total_history):\n",
    "    \"\"\"\n",
    "    A partir de unos valores y un array de aciertos, dibuja una gráfica que\n",
    "    los relaciona.\n",
    "    \"\"\"\n",
    "    for hit in hit_total_history:\n",
    "        plt.plot(values, hit)\n",
    "        \n",
    "    plt.xlabel('S')\n",
    "    plt.ylabel('hit_accuracy')\n",
    "    plt.legend(values)\n",
    "    \n",
    "    plt.show()"
   ]
  },
  {
   "cell_type": "code",
   "execution_count": 21,
   "id": "analyzed-lloyd",
   "metadata": {},
   "outputs": [],
   "source": [
    "def parameter_election(X, Y, X_val, Y_val, kernel):\n",
    "    \"\"\"\n",
    "    A partir de unas características y unos resultados, tanto de\n",
    "    entrenamiento como de CV, y un tipo de kernel, obtiene los parámetros\n",
    "    óptimos del modelo. Para conocer los parámetros óptimos nos basamos\n",
    "    en el acierto que tiene el modelo con dichos parámetros.\n",
    "    Devuelve la precisión, y los parámetros óptimos.\n",
    "    \"\"\"\n",
    "    values = [ .01, .03, .1, .3, 1, 3, 10 ]\n",
    "\n",
    "    c_opt = None\n",
    "    s_opt = None\n",
    "    acc_opt = 0\n",
    "    hit_history = []\n",
    "    hit_total_history = []\n",
    "    \n",
    "    for C in values:\n",
    "        hit_history = []\n",
    "        for S in values:\n",
    "            gamma = 1 / (2 * S**2) \n",
    "            \n",
    "            svm = SVC(kernel=kernel, C=C, gamma=gamma)\n",
    "            svm.fit(X, Y)\n",
    "            acc = np.round(\n",
    "                accuracy_score(Y_val, svm.predict(X_val)) * 100,\n",
    "                decimals = 2\n",
    "            )\n",
    "            \n",
    "            hit_history.append(acc)\n",
    "            print('C: {}\\tS: {}\\t-> {}%'.format(C, S, acc))\n",
    "            \n",
    "            if(acc > acc_opt):\n",
    "                acc_opt = acc\n",
    "                c_opt = C\n",
    "                s_opt = S\n",
    "\n",
    "                \n",
    "            if(acc_opt == 100.0):\n",
    "                save_svm_model(svm)\n",
    "                break\n",
    "                \n",
    "        hit_total_history.append(hit_history)\n",
    "    \n",
    "        if(acc_opt == 100.0):\n",
    "            break\n",
    "    \n",
    "    if(acc_opt < 100.0):\n",
    "        print_parameters(values, hit_total_history)\n",
    "        \n",
    "    return acc_opt, c_opt, s_opt"
   ]
  },
  {
   "cell_type": "markdown",
   "id": "satisfactory-judgment",
   "metadata": {},
   "source": [
    "## EXTERNAL FUNCTIONS"
   ]
  },
  {
   "cell_type": "code",
   "execution_count": 22,
   "id": "indie-disability",
   "metadata": {},
   "outputs": [],
   "source": [
    "def save_svm_model(model):\n",
    "    \"\"\"\n",
    "    Guarda el modelo SVM en la ruta models/model_svm.joblib\n",
    "    \"\"\"\n",
    "    dump(model, 'models/model_svm.joblib')"
   ]
  },
  {
   "cell_type": "code",
   "execution_count": 23,
   "id": "supreme-equivalent",
   "metadata": {},
   "outputs": [],
   "source": [
    "def load_svm_model():\n",
    "    \"\"\"\n",
    "    Carga el modelo SVM en la ruta models/model_svm.joblib\n",
    "    \"\"\"\n",
    "    return load('models/model_svm.joblib')"
   ]
  },
  {
   "cell_type": "code",
   "execution_count": 24,
   "id": "later-vancouver",
   "metadata": {},
   "outputs": [],
   "source": [
    "def show_svm_prediction():\n",
    "    \"\"\"\n",
    "    Carga los datos y el modelo óptimo, divide los datos y\n",
    "    prueba el modelo sobre esos datos.\n",
    "    Finalmente muestra el porcentaje de acierto de esos datos\n",
    "    \"\"\"\n",
    "    X, Y = read_dataset()\n",
    "    X, Y = manage_data(X, Y, use_onehot = False)\n",
    "    \n",
    "    _, _, _, _, X_test, Y_test = divide_dataset(X, Y)\n",
    "    svm = load_svm_model()\n",
    "    \n",
    "    percentage = np.round(\n",
    "        accuracy_score(Y_test, svm.predict(X_test)) * 100,\n",
    "        decimals = 2\n",
    "    )\n",
    "    \n",
    "    print(\"The SVM is reliable in {:.2f}% of the time\\n\"\n",
    "      .format(percentage))"
   ]
  },
  {
   "cell_type": "code",
   "execution_count": 25,
   "id": "german-triangle",
   "metadata": {},
   "outputs": [],
   "source": [
    "def predict_example_svm(example):\n",
    "    \"\"\"\n",
    "    Carga el modelo óptimo y, a partir de un ejemplo, predice su resultado\n",
    "    devuelve la predicción como booleano\n",
    "    \"\"\"\n",
    "    svm = load_svm_model()\n",
    "    return bool(svm.predict(np.array([example])))"
   ]
  },
  {
   "cell_type": "code",
   "execution_count": 26,
   "id": "smoking-cisco",
   "metadata": {},
   "outputs": [],
   "source": [
    "def main_svm():\n",
    "    \"\"\"\n",
    "    Función que entrena el clasificador, obtiene el modelo óptimo y\n",
    "    lo guarda.\n",
    "    \"\"\"\n",
    "    X, Y = read_dataset()\n",
    "    X, Y = manage_data(X, Y, use_onehot = False)\n",
    "    m = X.shape[0]\n",
    "    n = X.shape[1]\n",
    "\n",
    "    X_train, Y_train, X_cv, Y_cv, X_test, Y_test = divide_dataset(X, Y)\n",
    "    \n",
    "    acc_opt, c_opt, s_opt = parameter_election(X_train, Y_train,\n",
    "                                               X_cv, Y_cv, 'rbf')"
   ]
  },
  {
   "cell_type": "code",
   "execution_count": 27,
   "id": "fatty-threshold",
   "metadata": {},
   "outputs": [
    {
     "name": "stdout",
     "output_type": "stream",
     "text": [
      "C: 0.01\tS: 0.01\t-> 93.84%\n",
      "C: 0.01\tS: 0.03\t-> 93.84%\n",
      "C: 0.01\tS: 0.1\t-> 93.84%\n",
      "C: 0.01\tS: 0.3\t-> 93.84%\n",
      "C: 0.01\tS: 1\t-> 93.84%\n",
      "C: 0.01\tS: 3\t-> 93.84%\n",
      "C: 0.01\tS: 10\t-> 93.84%\n",
      "C: 0.01\tS: 30\t-> 93.84%\n",
      "C: 0.01\tS: 100\t-> 93.84%\n",
      "C: 0.03\tS: 0.01\t-> 94.21%\n",
      "C: 0.03\tS: 0.03\t-> 94.21%\n",
      "C: 0.03\tS: 0.1\t-> 94.21%\n",
      "C: 0.03\tS: 0.3\t-> 94.21%\n",
      "C: 0.03\tS: 1\t-> 94.21%\n",
      "C: 0.03\tS: 3\t-> 94.21%\n",
      "C: 0.03\tS: 10\t-> 94.21%\n",
      "C: 0.03\tS: 30\t-> 94.21%\n",
      "C: 0.03\tS: 100\t-> 94.21%\n",
      "C: 0.1\tS: 0.01\t-> 94.21%\n",
      "C: 0.1\tS: 0.03\t-> 94.21%\n",
      "C: 0.1\tS: 0.1\t-> 94.21%\n",
      "C: 0.1\tS: 0.3\t-> 94.21%\n",
      "C: 0.1\tS: 1\t-> 94.21%\n",
      "C: 0.1\tS: 3\t-> 94.21%\n",
      "C: 0.1\tS: 10\t-> 94.21%\n",
      "C: 0.1\tS: 30\t-> 94.21%\n",
      "C: 0.1\tS: 100\t-> 94.21%\n",
      "C: 0.3\tS: 0.01\t-> 95.69%\n",
      "C: 0.3\tS: 0.03\t-> 95.69%\n",
      "C: 0.3\tS: 0.1\t-> 95.69%\n",
      "C: 0.3\tS: 0.3\t-> 95.69%\n",
      "C: 0.3\tS: 1\t-> 95.69%\n",
      "C: 0.3\tS: 3\t-> 95.69%\n",
      "C: 0.3\tS: 10\t-> 95.69%\n",
      "C: 0.3\tS: 30\t-> 95.69%\n",
      "C: 0.3\tS: 100\t-> 95.69%\n",
      "C: 1\tS: 0.01\t-> 96.67%\n",
      "C: 1\tS: 0.03\t-> 96.67%\n",
      "C: 1\tS: 0.1\t-> 96.67%\n",
      "C: 1\tS: 0.3\t-> 96.67%\n",
      "C: 1\tS: 1\t-> 96.67%\n",
      "C: 1\tS: 3\t-> 96.67%\n",
      "C: 1\tS: 10\t-> 96.67%\n",
      "C: 1\tS: 30\t-> 96.67%\n",
      "C: 1\tS: 100\t-> 96.67%\n",
      "C: 3\tS: 0.01\t-> 97.41%\n",
      "C: 3\tS: 0.03\t-> 97.41%\n",
      "C: 3\tS: 0.1\t-> 97.41%\n",
      "C: 3\tS: 0.3\t-> 97.41%\n",
      "C: 3\tS: 1\t-> 97.41%\n",
      "C: 3\tS: 3\t-> 97.41%\n",
      "C: 3\tS: 10\t-> 97.41%\n",
      "C: 3\tS: 30\t-> 97.41%\n",
      "C: 3\tS: 100\t-> 97.41%\n",
      "C: 10\tS: 0.01\t-> 98.4%\n",
      "C: 10\tS: 0.03\t-> 98.4%\n",
      "C: 10\tS: 0.1\t-> 98.4%\n",
      "C: 10\tS: 0.3\t-> 98.4%\n",
      "C: 10\tS: 1\t-> 98.4%\n",
      "C: 10\tS: 3\t-> 98.4%\n",
      "C: 10\tS: 10\t-> 98.4%\n",
      "C: 10\tS: 30\t-> 98.4%\n",
      "C: 10\tS: 100\t-> 98.4%\n",
      "C: 30\tS: 0.01\t-> 98.89%\n",
      "C: 30\tS: 0.03\t-> 98.89%\n",
      "C: 30\tS: 0.1\t-> 98.89%\n",
      "C: 30\tS: 0.3\t-> 98.89%\n",
      "C: 30\tS: 1\t-> 98.89%\n",
      "C: 30\tS: 3\t-> 98.89%\n",
      "C: 30\tS: 10\t-> 98.89%\n",
      "C: 30\tS: 30\t-> 98.89%\n",
      "C: 30\tS: 100\t-> 98.89%\n",
      "C: 100\tS: 0.01\t-> 98.89%\n",
      "C: 100\tS: 0.03\t-> 98.89%\n",
      "C: 100\tS: 0.1\t-> 98.89%\n",
      "C: 100\tS: 0.3\t-> 98.89%\n",
      "C: 100\tS: 1\t-> 98.89%\n",
      "C: 100\tS: 3\t-> 98.89%\n",
      "C: 100\tS: 10\t-> 98.89%\n",
      "C: 100\tS: 30\t-> 98.89%\n",
      "C: 100\tS: 100\t-> 98.89%\n"
     ]
    },
    {
     "data": {
      "image/png": "[encoded data removed]",
      "text/plain": [
       "<Figure size 432x288 with 1 Axes>"
      ]
     },
     "metadata": {
      "needs_background": "light"
     },
     "output_type": "display_data"
    }
   ],
   "source": [
    "# main_svm()"
   ]
  },
  {
   "cell_type": "code",
   "execution_count": null,
   "id": "resistant-alias",
   "metadata": {},
   "outputs": [],
   "source": []
  }
 ],
 "metadata": {
  "kernelspec": {
   "display_name": "Python 3",
   "language": "python",
   "name": "python3"
  },
  "language_info": {
   "codemirror_mode": {
    "name": "ipython",
    "version": 3
   },
   "file_extension": ".py",
   "mimetype": "text/x-python",
   "name": "python",
   "nbconvert_exporter": "python",
   "pygments_lexer": "ipython3",
   "version": "3.8.5"
  }
 },
 "nbformat": 4,
 "nbformat_minor": 5
}
