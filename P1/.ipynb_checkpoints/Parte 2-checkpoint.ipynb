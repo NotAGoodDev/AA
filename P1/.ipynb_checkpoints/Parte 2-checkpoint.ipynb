{
 "cells": [
  {
   "cell_type": "markdown",
   "id": "annual-footwear",
   "metadata": {},
   "source": [
    "# Parte 1"
   ]
  },
  {
   "cell_type": "markdown",
   "id": "vietnamese-attempt",
   "metadata": {},
   "source": [
    "## Imports"
   ]
  },
  {
   "cell_type": "code",
   "execution_count": 4,
   "id": "external-neighborhood",
   "metadata": {},
   "outputs": [],
   "source": [
    "import numpy as np\n",
    "from pandas.io.parsers import read_csv\n",
    "\n",
    "from matplotlib import pyplot as plt\n",
    "from mpl_toolkits.mplot3d import Axes3D\n",
    "from matplotlib import cm"
   ]
  },
  {
   "cell_type": "markdown",
   "id": "clinical-radio",
   "metadata": {},
   "source": [
    "## Obtener datos"
   ]
  },
  {
   "cell_type": "code",
   "execution_count": null,
   "id": "understanding-worker",
   "metadata": {},
   "outputs": [],
   "source": [
    "data = read_csv(\"ex1data1.csv\", header=None).to_numpy()\n",
    "X = np.array([data[:, 0]])\n",
    "Y = np.array([data[:, 1]]).T\n",
    "m = X.shape[1]\n",
    "\n",
    "# Columna de 1s al principio\n",
    "X = np.hstack([np.ones([m, 1]), X.T]) \n"
   ]
  },
  {
   "cell_type": "markdown",
   "id": "warming-object",
   "metadata": {},
   "source": [
    "## Regresión Lineal de una variable"
   ]
  },
  {
   "cell_type": "code",
   "execution_count": null,
   "id": "later-stylus",
   "metadata": {},
   "outputs": [],
   "source": [
    "def reg_lin_una_var (X, Y, a = 0.01, iteraciones = 1500):\n",
    "    \n",
    "    Theta = np.array([[0, 0]])\n",
    "    J_Theta = 0\n",
    "    \n",
    "    # Hipotesis\n",
    "    for i in range(iteraciones):\n",
    "        h_theta = np.array([np.sum(X * Theta, axis = 1)])\n",
    "        difference = h_theta.T - Y\n",
    "    \n",
    "        # Funcion de coste\n",
    "        J_theta = (1/(2 * m) * np.sum(np.square( difference )))\n",
    "\n",
    "        # Actualizamos Thetas\n",
    "        Theta = Theta - a *(1/m)* np.sum( difference * np.array([X]), axis=1 )\n",
    "\n",
    "    return (J_Theta, Theta)"
   ]
  },
  {
   "cell_type": "code",
   "execution_count": null,
   "id": "hearing-roman",
   "metadata": {},
   "outputs": [],
   "source": [
    "J_Theta, Theta = reg_lin_una_var(X, Y, 0.01, 1500)\n",
    "\n",
    "X_prueba = [1,   # Theta_0\n",
    "            7]   # + Theta_1 * X_1\n",
    "\n",
    "print(\"$\", np.sum(Theta * X_prueba) * 10000)"
   ]
  },
  {
   "cell_type": "markdown",
   "id": "disabled-stockholm",
   "metadata": {},
   "source": [
    "## Visualizar datos y recta"
   ]
  },
  {
   "cell_type": "code",
   "execution_count": null,
   "id": "focused-riverside",
   "metadata": {},
   "outputs": [],
   "source": [
    "# Visualizar datos\n",
    "plt.plot([X[:, 1]], [Y[:, 0]], marker='x', c='red')\n",
    "    \n",
    "# Visualizar recta\n",
    "X_min = np.min(X[:, 1])\n",
    "X_max = np.max(X[:, 1])\n",
    "\n",
    "X_min = [1, X_min]\n",
    "X_max = [1, X_max]\n",
    "\n",
    "Y_min = np.sum(X_min * Theta)\n",
    "Y_max = np.sum(X_max * Theta)\n",
    "\n",
    "print(\"El valor mínimo de X es:\", X_min[1], \"y su valor Y es de:\", Y_min)\n",
    "print(\"El valor máximo de X es:\", X_max[1], \"y su valor Y es de:\", Y_max)\n",
    "\n",
    "resultado_X = [X_min[1], X_max[1]]\n",
    "resultado_Y = [Y_min, Y_max]\n",
    "\n",
    "plt.plot(resultado_X, resultado_Y)\n",
    "plt.show()"
   ]
  },
  {
   "cell_type": "markdown",
   "id": "missing-camping",
   "metadata": {},
   "source": [
    "## Función de coste"
   ]
  },
  {
   "cell_type": "code",
   "execution_count": null,
   "id": "accepting-passage",
   "metadata": {},
   "outputs": [],
   "source": [
    "def coste(X, Y, Theta):\n",
    "    h_theta = np.array([np.sum(X * Theta, axis = 1)])\n",
    "    difference = h_theta.T - Y\n",
    "    return (1/(2 * len(X)) * np.sum(np.square( difference )))"
   ]
  },
  {
   "cell_type": "markdown",
   "id": "engaged-namibia",
   "metadata": {},
   "source": [
    "## Generar matrices y coste"
   ]
  },
  {
   "cell_type": "code",
   "execution_count": null,
   "id": "moral-canal",
   "metadata": {},
   "outputs": [],
   "source": [
    "def make_data(t0_range, t1_range, X, Y):\n",
    "    \"\"\"  GENERA LAS MATRICES THETA0, THETA1, COSTE PARA GENERAR UN PLOT EN 3D\n",
    "    DEL COSTE PARA VALORES DE THETA_0 EN EL INTERVALO T0_RANGE Y VALORES DE THETA_1 EN EL INTERVALO T1_RANGE\"\"\"\n",
    "    step = 0.1\n",
    "    theta_0 = np.arange(t0_range[0], t0_range[1], step)\n",
    "    theta_1 = np.arange(t1_range[0], t1_range[1], step)\n",
    "    \n",
    "    theta_0, theta_1 = np.meshgrid(theta_0, theta_1)\n",
    "    Coste = np.empty_like(theta_0)\n",
    "    \n",
    "    for ix, iy in np.ndindex(theta_0.shape):\n",
    "        Coste[ix, iy] = coste(X, Y, [[theta_0[ix, iy], theta_1[ix, iy]]])\n",
    "        \n",
    "    return [theta_0, theta_1, Coste]"
   ]
  },
  {
   "cell_type": "markdown",
   "id": "billion-charge",
   "metadata": {},
   "source": [
    "## Generar gráfica de contorno"
   ]
  },
  {
   "cell_type": "code",
   "execution_count": null,
   "id": "czech-palmer",
   "metadata": {},
   "outputs": [],
   "source": [
    "Xx, Yy, Zz = make_data([-10, 10], [-1, 4], X, Y)\n",
    "\n",
    "plt.contour(Xx, Yy, Zz, np.logspace(-2, 3, 20), colors='blue')\n",
    "plt.show()"
   ]
  },
  {
   "cell_type": "markdown",
   "id": "indie-candy",
   "metadata": {},
   "source": [
    "## Generar gráfica 3D"
   ]
  },
  {
   "cell_type": "code",
   "execution_count": null,
   "id": "standard-pierce",
   "metadata": {
    "scrolled": true
   },
   "outputs": [],
   "source": [
    "fig = plt.figure(figsize=(10,10))\n",
    "ax = fig.gca(projection='3d')\n",
    "ax.view_init(20, 10)\n",
    "ax.plot_surface(Xx, Yy, Zz, cmap = cm.ocean)\n",
    "\n",
    "plt.show()"
   ]
  },
  {
   "cell_type": "markdown",
   "id": "material-retention",
   "metadata": {},
   "source": [
    "# Parte 2"
   ]
  },
  {
   "cell_type": "markdown",
   "id": "mathematical-alcohol",
   "metadata": {},
   "source": [
    "## Obtener datos"
   ]
  },
  {
   "cell_type": "code",
   "execution_count": 38,
   "id": "cleared-healing",
   "metadata": {},
   "outputs": [],
   "source": [
    "# Formatear datos\n",
    "data = read_csv(\"ex1data2.csv\", header=None).to_numpy().astype(float)\n",
    "X = np.array(data[:, :-1])\n",
    "Y = np.array(data[:, -1])\n"
   ]
  },
  {
   "cell_type": "markdown",
   "id": "studied-happiness",
   "metadata": {},
   "source": [
    "## Normalizar datos"
   ]
  },
  {
   "cell_type": "code",
   "execution_count": 27,
   "id": "hollow-negative",
   "metadata": {},
   "outputs": [],
   "source": [
    "def normalizar(X):\n",
    "    mu = np.mean(X, axis = 0)\n",
    "    sigma = np.std(X, axis = 0)\n",
    "    X_norm = np.divide(np.subtract(X, mu), sigma)\n",
    "    return [X_norm, mu, sigma]"
   ]
  },
  {
   "cell_type": "code",
   "execution_count": 39,
   "id": "allied-native",
   "metadata": {
    "scrolled": true
   },
   "outputs": [
    {
     "name": "stdout",
     "output_type": "stream",
     "text": [
      "[[ 1.00000000e+00  1.31415422e-01 -2.26093368e-01]\n",
      " [ 1.00000000e+00 -5.09640698e-01 -2.26093368e-01]\n",
      " [ 1.00000000e+00  5.07908699e-01 -2.26093368e-01]\n",
      " [ 1.00000000e+00 -7.43677059e-01 -1.55439190e+00]\n",
      " [ 1.00000000e+00  1.27107075e+00  1.10220517e+00]\n",
      " [ 1.00000000e+00 -1.99450507e-02  1.10220517e+00]\n",
      " [ 1.00000000e+00 -5.93588523e-01 -2.26093368e-01]\n",
      " [ 1.00000000e+00 -7.29685755e-01 -2.26093368e-01]\n",
      " [ 1.00000000e+00 -7.89466782e-01 -2.26093368e-01]\n",
      " [ 1.00000000e+00 -6.44465993e-01 -2.26093368e-01]\n",
      " [ 1.00000000e+00 -7.71822042e-02  1.10220517e+00]\n",
      " [ 1.00000000e+00 -8.65999486e-04 -2.26093368e-01]\n",
      " [ 1.00000000e+00 -1.40779041e-01 -2.26093368e-01]\n",
      " [ 1.00000000e+00  3.15099326e+00  2.43050370e+00]\n",
      " [ 1.00000000e+00 -9.31923697e-01 -2.26093368e-01]\n",
      " [ 1.00000000e+00  3.80715024e-01  1.10220517e+00]\n",
      " [ 1.00000000e+00 -8.65782986e-01 -1.55439190e+00]\n",
      " [ 1.00000000e+00 -9.72625673e-01 -2.26093368e-01]\n",
      " [ 1.00000000e+00  7.73743478e-01  1.10220517e+00]\n",
      " [ 1.00000000e+00  1.31050078e+00  1.10220517e+00]\n",
      " [ 1.00000000e+00 -2.97227261e-01 -2.26093368e-01]\n",
      " [ 1.00000000e+00 -1.43322915e-01 -1.55439190e+00]\n",
      " [ 1.00000000e+00 -5.04552951e-01 -2.26093368e-01]\n",
      " [ 1.00000000e+00 -4.91995958e-02  1.10220517e+00]\n",
      " [ 1.00000000e+00  2.40309445e+00 -2.26093368e-01]\n",
      " [ 1.00000000e+00 -1.14560907e+00 -2.26093368e-01]\n",
      " [ 1.00000000e+00 -6.90255715e-01 -2.26093368e-01]\n",
      " [ 1.00000000e+00  6.68172729e-01 -2.26093368e-01]\n",
      " [ 1.00000000e+00  2.53521350e-01 -2.26093368e-01]\n",
      " [ 1.00000000e+00  8.09357707e-01 -2.26093368e-01]\n",
      " [ 1.00000000e+00 -2.05647815e-01 -1.55439190e+00]\n",
      " [ 1.00000000e+00 -1.27280274e+00 -2.88269044e+00]\n",
      " [ 1.00000000e+00  5.00114703e-02  1.10220517e+00]\n",
      " [ 1.00000000e+00  1.44532608e+00 -2.26093368e-01]\n",
      " [ 1.00000000e+00 -2.41262044e-01  1.10220517e+00]\n",
      " [ 1.00000000e+00 -7.16966387e-01 -2.26093368e-01]\n",
      " [ 1.00000000e+00 -9.68809863e-01 -2.26093368e-01]\n",
      " [ 1.00000000e+00  1.67029651e-01  1.10220517e+00]\n",
      " [ 1.00000000e+00  2.81647389e+00  1.10220517e+00]\n",
      " [ 1.00000000e+00  2.05187753e-01  1.10220517e+00]\n",
      " [ 1.00000000e+00 -4.28236746e-01 -1.55439190e+00]\n",
      " [ 1.00000000e+00  3.01854946e-01 -2.26093368e-01]\n",
      " [ 1.00000000e+00  7.20322135e-01  1.10220517e+00]\n",
      " [ 1.00000000e+00 -1.01841540e+00 -2.26093368e-01]\n",
      " [ 1.00000000e+00 -1.46104938e+00 -1.55439190e+00]\n",
      " [ 1.00000000e+00 -1.89112638e-01  1.10220517e+00]\n",
      " [ 1.00000000e+00 -1.01459959e+00 -2.26093368e-01]]\n"
     ]
    }
   ],
   "source": [
    "m = X.shape[0]\n",
    "\n",
    "X_norm, mu, sigma = normalizar(X)\n",
    "#Y_norm, _, _ = normalizar(Y)\n",
    "X_norm = np.hstack([np.ones([m, 1]), X_norm]) \n",
    "X = np.hstack([np.ones([m, 1]), X])\n"
   ]
  },
  {
   "cell_type": "markdown",
   "id": "directed-quilt",
   "metadata": {},
   "source": [
    "## Regresión Lineal de multiples variables"
   ]
  },
  {
   "cell_type": "code",
   "execution_count": 8,
   "id": "respective-disorder",
   "metadata": {},
   "outputs": [],
   "source": [
    "def reg_lin_mul_var (X, Y, a, iteraciones = 1500):\n",
    "    \n",
    "    m = X.shape[0]\n",
    "    n = X.shape[1]\n",
    "    Theta = np.zeros(n)\n",
    "    J_theta = []\n",
    "    gradient = []\n",
    "\n",
    "    \n",
    "    for iter in range(iteraciones): \n",
    "        H = np.dot(X, Theta)\n",
    "        diff = (H - Y)\n",
    "        J_theta.append((1 / (2 * m)) * np.sum(np.square(diff)))\n",
    "        gradient.append((1 / m) * np.sum(diff * X.T))\n",
    "\n",
    "        for i in range(n):\n",
    "            aux = diff * X[:, i]\n",
    "            Theta[i] -= (a / m) * np.sum(aux)\n",
    "\n",
    "    return (Theta, gradient, J_theta)"
   ]
  },
  {
   "cell_type": "markdown",
   "id": "educational-cleaning",
   "metadata": {},
   "source": [
    "## Mostrar gráficas de distintas alphas"
   ]
  },
  {
   "cell_type": "code",
   "execution_count": 29,
   "id": "circular-gibson",
   "metadata": {
    "scrolled": true
   },
   "outputs": [
    {
     "data": {
      "image/png": "[encoded data removed]",
      "text/plain": [
       "<Figure size 432x288 with 1 Axes>"
      ]
     },
     "metadata": {
      "needs_background": "light"
     },
     "output_type": "display_data"
    },
    {
     "data": {
      "image/png": "[encoded data removed]",
      "text/plain": [
       "<Figure size 432x288 with 1 Axes>"
      ]
     },
     "metadata": {
      "needs_background": "light"
     },
     "output_type": "display_data"
    },
    {
     "data": {
      "image/png": "[encoded data removed]",
      "text/plain": [
       "<Figure size 432x288 with 1 Axes>"
      ]
     },
     "metadata": {
      "needs_background": "light"
     },
     "output_type": "display_data"
    },
    {
     "data": {
      "image/png": "[encoded data removed]",
      "text/plain": [
       "<Figure size 432x288 with 1 Axes>"
      ]
     },
     "metadata": {
      "needs_background": "light"
     },
     "output_type": "display_data"
    },
    {
     "data": {
      "image/png": "[encoded data removed]",
      "text/plain": [
       "<Figure size 432x288 with 1 Axes>"
      ]
     },
     "metadata": {
      "needs_background": "light"
     },
     "output_type": "display_data"
    }
   ],
   "source": [
    "alpha = np.array([.3, .1, .03, .01, 3])\n",
    "\n",
    "for a in alpha:\n",
    "    plt.figure()\n",
    "    plt.title(a)\n",
    "    Theta, gradient, J_theta = reg_lin_mul_var(X_norm, Y, a, 100)\n",
    "    plt.plot(gradient, J_theta, c='red')\n",
    "\n",
    "\n",
    "    plt.show()"
   ]
  },
  {
   "cell_type": "markdown",
   "id": "increasing-pendant",
   "metadata": {},
   "source": [
    "# Ecuación Normal"
   ]
  },
  {
   "cell_type": "code",
   "execution_count": 10,
   "id": "political-franklin",
   "metadata": {},
   "outputs": [],
   "source": [
    "def ecuacion_normal(X, Y):\n",
    "    inversa = np.linalg.pinv( np.dot(X.T, X) )\n",
    "    multiplicacion = np.dot(X.T, Y)\n",
    "    Theta = np.dot(inversa, multiplicacion)\n",
    "    \n",
    "    return Theta"
   ]
  },
  {
   "cell_type": "code",
   "execution_count": 11,
   "id": "together-husband",
   "metadata": {},
   "outputs": [],
   "source": [
    "def normalizar(X, mu, sigma):\n",
    "    X_norm = np.divide(np.subtract(X, mu), sigma)\n",
    "    return X_norm"
   ]
  },
  {
   "cell_type": "code",
   "execution_count": 12,
   "id": "angry-canadian",
   "metadata": {},
   "outputs": [
    {
     "name": "stdout",
     "output_type": "stream",
     "text": [
      "Theta. Gradiente: [340412.65957447 109447.79646964  -6578.35485416]\n",
      "Pred. Gradiente: 293081.46433489537\n"
     ]
    }
   ],
   "source": [
    "# Predicciones / entrenamientos\n",
    "prediccion_gradiente, _, _ = reg_lin_mul_var (X_norm, Y, .03, 10000)\n",
    "\n",
    "# Valor prueba\n",
    "X_prueba = [1650, 3]\n",
    "\n",
    "# Normalizar valores\n",
    "X_prueba = normalizar(X_prueba, mu, sigma)\n",
    "X_prueba = np.append(1, X_prueba)\n",
    "\n",
    "print(\"Theta. Gradiente:\", prediccion_gradiente)\n",
    "print(\"Pred. Gradiente:\", np.sum(prediccion_gradiente * X_prueba))"
   ]
  },
  {
   "cell_type": "code",
   "execution_count": 13,
   "id": "greatest-tribune",
   "metadata": {},
   "outputs": [
    {
     "name": "stdout",
     "output_type": "stream",
     "text": [
      "Theta. Normalizada: [89597.90954355   139.21067402 -8738.01911255]\n",
      "Pred. Normalizada: 293081.4643349727\n"
     ]
    }
   ],
   "source": [
    "# Predicciones / entrenamientos\n",
    "prediccion_normalizada = ecuacion_normal(X, Y)\n",
    "\n",
    "# Valor prueba\n",
    "X_prueba = [1, 1650, 3]\n",
    "\n",
    "print(\"Theta. Normalizada:\", prediccion_normalizada)\n",
    "print(\"Pred. Normalizada:\", np.sum(prediccion_normalizada * X_prueba))"
   ]
  }
 ],
 "metadata": {
  "kernelspec": {
   "display_name": "Python 3",
   "language": "python",
   "name": "python3"
  },
  "language_info": {
   "codemirror_mode": {
    "name": "ipython",
    "version": 3
   },
   "file_extension": ".py",
   "mimetype": "text/x-python",
   "name": "python",
   "nbconvert_exporter": "python",
   "pygments_lexer": "ipython3",
   "version": "3.8.5"
  }
 },
 "nbformat": 4,
 "nbformat_minor": 5
}
