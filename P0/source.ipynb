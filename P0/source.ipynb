{
 "cells": [
  {
   "cell_type": "code",
   "execution_count": 1,
   "metadata": {},
   "outputs": [],
   "source": [
    "import time\n",
    "import numpy as np\n",
    "import matplotlib.pyplot as plt\n",
    "from scipy import integrate"
   ]
  },
  {
   "cell_type": "code",
   "execution_count": 2,
   "metadata": {},
   "outputs": [],
   "source": [
    "def lineal(x):\n",
    "    return x\n",
    "\n",
    "def cuadrado(x):\n",
    "    return x ** 2\n",
    "\n",
    "def cubo(x):\n",
    "    return x ** 3"
   ]
  },
  {
   "cell_type": "code",
   "execution_count": 3,
   "metadata": {},
   "outputs": [],
   "source": [
    "def integra_mc_bucles(fun, a, b, num_puntos = 10000):\n",
    "    \n",
    "    # COMIENZA EL TIEMPO\n",
    "    tic = time.process_time()\n",
    "    n_debajo = 0\n",
    "    \n",
    "    # GENERAMOS EL EJE X DE LOS PUNTOS\n",
    "    puntos = np.random.uniform(a, b, num_puntos)\n",
    "    \n",
    "    # BUSCAMOS EL MAXIMO M DEL EJE X\n",
    "    M = np.max(fun(puntos))\n",
    "    \n",
    "    #linea = np.linspace(a, b, 50)\n",
    "    #plt.plot(linea, fun(linea), c = 'blue')\n",
    "\n",
    "    # ANIADIMOS EL EJE 'Y' AL ARRAY\n",
    "    puntos = np.array((puntos, np.random.uniform(0, M, num_puntos)))\n",
    "    \n",
    "    #plt.scatter(puntos[0], puntos[1], c = 'red', marker='x')\n",
    "\n",
    "    \n",
    "    # RECORREMOS CON UN BUCLE EL EJE 'Y' DE LOS PUNTOS\n",
    "    #  Y COMPROBAMOS SI ESTAN POR DEBAJO DE LA FUNCION\n",
    "    for i in range(num_puntos):\n",
    "        if puntos[1, i] < fun(puntos[0, i]):\n",
    "            n_debajo += 1\n",
    "    \n",
    "    # APLICAMOS LA FORMULA\n",
    "    I = (n_debajo / num_puntos) * (b - a) * M\n",
    "    \n",
    "    #TERMINA EL TIEMPO\n",
    "    toc = time.process_time()\n",
    "    \n",
    "    #print(\"El método propio de bucles ha calculado:\", I)\n",
    "    \n",
    "    return((toc - tic) * 1000)"
   ]
  },
  {
   "cell_type": "code",
   "execution_count": null,
   "metadata": {},
   "outputs": [],
   "source": [
    "    "
   ]
  },
  {
   "cell_type": "code",
   "execution_count": 4,
   "metadata": {},
   "outputs": [],
   "source": [
    "def integra_mc_vectorizado(fun, a, b, num_puntos=10000):\n",
    "    \n",
    "    # COMIENZA EL TIEMPO\n",
    "    tic = time.process_time()\n",
    "    n_debajo = 0\n",
    "    \n",
    "    # GENERAMOS EL EJE X DE LOS PUNTOS\n",
    "    puntos = np.random.uniform(a, b, num_puntos)\n",
    "    \n",
    "    # BUSCAMOS EL MAXIMO M DEL EJE X\n",
    "    M = np.max(fun(puntos))\n",
    "    \n",
    "    # ANIADIMOS EL EJE 'Y' AL ARRAY\n",
    "    puntos = np.array((puntos, np.random.uniform(0, M, num_puntos)))\n",
    "    \n",
    "    # COMPARAMOS SI VECTOR 'Y' ESTA POR DEBAJO DE LA FUNCION,\n",
    "    # DEVOLVEMOS LOS BOOLEANOS Y LOS CONTAMOS, TODO ELLO VECTORIZADO\n",
    "    n_debajo = np.sum(puntos[1, :] < fun(puntos[0, :]))\n",
    "    \n",
    "    # APLICAMOS LA FORMULA\n",
    "    I = (n_debajo / num_puntos) * (b - a) * M\n",
    "    \n",
    "    #TERMINA EL TIEMPO\n",
    "    toc = time.process_time()\n",
    "    \n",
    "    #print(\"El método propio de la vectorización ha calculado:\", I)\n",
    "    \n",
    "    return((toc - tic) * 1000)"
   ]
  },
  {
   "cell_type": "code",
   "execution_count": 5,
   "metadata": {
    "scrolled": true
   },
   "outputs": [
    {
     "name": "stdout",
     "output_type": "stream",
     "text": [
      "El tiempo de los bucles es: 93.75 milisegundos\n",
      "\n",
      "El tiempo de la vectorización es: 0.0 milisegundos\n",
      "\n",
      "El método de scipy ha calculado: 64.0\n"
     ]
    }
   ],
   "source": [
    "print(\"El tiempo de los bucles es: {} milisegundos\\n\".format(integra_mc_bucles(cubo, 0, 4, 100000)))\n",
    "print(\"El tiempo de la vectorización es: {} milisegundos\\n\".format(integra_mc_vectorizado(cubo, 0, 4, 100000)))\n",
    "print(\"El método de scipy ha calculado: {}\".format(integrate.quad(cubo, 0, 4)[0]))"
   ]
  },
  {
   "cell_type": "code",
   "execution_count": 13,
   "metadata": {},
   "outputs": [],
   "source": [
    "def compara_tiempos(fun, a, b, num_puntos=10000):\n",
    "    \n",
    "    # Tiempos acumulados\n",
    "    acumulado_bucles = 0\n",
    "    acumulado_vect = 0\n",
    "    \n",
    "    # Veces a recorrer el bucle\n",
    "    sizes = np.linspace(a, b, 20)\n",
    "\n",
    "    plt.figure()\n",
    "\n",
    "    # Sumamos los tiempos (No los metemos en un array)\n",
    "    # Dibujamos el punto en la grafica\n",
    "    for i in sizes:\n",
    "        acumulado_bucles += integra_mc_bucles(fun, a, b, num_puntos)\n",
    "        plt.plot(i, acumulado_bucles, c = 'red', marker='o')\n",
    "\n",
    "        acumulado_vect += integra_mc_vectorizado(fun, a, b, num_puntos)\n",
    "        plt.scatter(i, acumulado_vect, c = 'blue', marker='o')\n",
    "\n",
    "    \n",
    "    # Mostramos la grafica\n",
    "    plt.show()\n",
    "    \n",
    "    return (acumulado_bucles / acumulado_vect)\n"
   ]
  },
  {
   "cell_type": "code",
   "execution_count": 10,
   "metadata": {},
   "outputs": [
    {
     "data": {
      "image/png": "[encoded data removed]",
      "text/plain": [
       "<Figure size 432x288 with 1 Axes>"
      ]
     },
     "metadata": {
      "needs_background": "light"
     },
     "output_type": "display_data"
    },
    {
     "name": "stdout",
     "output_type": "stream",
     "text": [
      "La vectorización en la función lineal es: x12.40 veces más eficiente\n",
      "\n",
      "\n"
     ]
    },
    {
     "data": {
      "image/png": "[encoded data removed]",
      "text/plain": [
       "<Figure size 432x288 with 1 Axes>"
      ]
     },
     "metadata": {
      "needs_background": "light"
     },
     "output_type": "display_data"
    },
    {
     "name": "stdout",
     "output_type": "stream",
     "text": [
      "La vectorización en la función cuadrado es: x101.00 veces más eficiente\n",
      "\n",
      "\n"
     ]
    },
    {
     "data": {
      "image/png": "[encoded data removed]",
      "text/plain": [
       "<Figure size 432x288 with 1 Axes>"
      ]
     },
     "metadata": {
      "needs_background": "light"
     },
     "output_type": "display_data"
    },
    {
     "name": "stdout",
     "output_type": "stream",
     "text": [
      "La vectorización en la función cubo es: x10.90 veces más eficiente\n",
      "\n",
      "\n"
     ]
    }
   ],
   "source": [
    "print(\"La vectorización en la función lineal es: x{:.2f} veces más eficiente\\n\\n\".format(compara_tiempos(lineal, 0, 4, 100000)))\n",
    "print(\"La vectorización en la función cuadrado es: x{:.2f} veces más eficiente\\n\\n\".format(compara_tiempos(cuadrado, 0, 4, 100000)))\n",
    "print(\"La vectorización en la función cubo es: x{:.2f} veces más eficiente\\n\\n\".format(compara_tiempos(cubo, 0, 4, 100000)))\n"
   ]
  }
 ],
 "metadata": {
  "kernelspec": {
   "display_name": "Python 3",
   "language": "python",
   "name": "python3"
  },
  "language_info": {
   "codemirror_mode": {
    "name": "ipython",
    "version": 3
   },
   "file_extension": ".py",
   "mimetype": "text/x-python",
   "name": "python",
   "nbconvert_exporter": "python",
   "pygments_lexer": "ipython3",
   "version": "3.8.5"
  }
 },
 "nbformat": 4,
 "nbformat_minor": 4
}
