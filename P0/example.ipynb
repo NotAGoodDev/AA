{
 "cells": [
  {
   "cell_type": "code",
   "execution_count": 1,
   "metadata": {},
   "outputs": [],
   "source": [
    "import time\n",
    "import numpy as np\n",
    "import matplotlib.pyplot as plt"
   ]
  },
  {
   "cell_type": "code",
   "execution_count": 3,
   "metadata": {},
   "outputs": [],
   "source": [
    "def dot_product(x1, x2):\n",
    "    \"\"\" Calcula el producto escalar con un bucle y devuelve el tiempo en milisegundos\"\"\"\n",
    "\n",
    "    tic = time.process_time()\n",
    "    dot = 0\n",
    "    for i in range(len(x1)):\n",
    "        dot += x1[i] * x2[i]\n",
    "    toc = time.process_time()\n",
    "    return 1000 * (toc - tic)"
   ]
  },
  {
   "cell_type": "code",
   "execution_count": 4,
   "metadata": {},
   "outputs": [],
   "source": [
    "def fast_dot_product(x1, x2):\n",
    "    \"\"\" Calcula el producto escalar vectorizado y devuelve el tiempo en milisegundos\"\"\"\n",
    "    tic = time.process_time()\n",
    "    np.dot(x1, x2)\n",
    "    toc = time.process_time()\n",
    "    return 1000 * (toc - tic)"
   ]
  },
  {
   "cell_type": "code",
   "execution_count": 5,
   "metadata": {},
   "outputs": [],
   "source": [
    "def compara_tiempo():\n",
    "    sizes = np.linspace(100, 1000000, 20)\n",
    "    times_dot = []\n",
    "    times_fast = []\n",
    "    for size in sizes : \n",
    "        x1 = np.random.uniform(1, 100, int(size))\n",
    "        x2 = np.random.uniform(1, 100, int(size))\n",
    "        times_dot += [dot_product(x1, x2)]\n",
    "        times_fast += [fast_dot_product(x1, x2)]\n",
    "\n",
    "    plt.figure()\n",
    "    plt.scatter(sizes, times_dot, c='red', label='bucle')\n",
    "    plt.scatter(sizes, times_fast, c='blue', label='vector')\n",
    "    plt.legend()\n",
    "    plt.savefig(\"time.png\")"
   ]
  },
  {
   "cell_type": "code",
   "execution_count": 9,
   "metadata": {},
   "outputs": [
    {
     "data": {
      "image/png": "[encoded data removed]",
      "text/plain": [
       "<Figure size 432x288 with 1 Axes>"
      ]
     },
     "metadata": {
      "needs_background": "light"
     },
     "output_type": "display_data"
    }
   ],
   "source": [
    "compara_tiempo()"
   ]
  },
  {
   "cell_type": "code",
   "execution_count": null,
   "metadata": {},
   "outputs": [],
   "source": [
    "def integra_mc(fun, a, b, num_puntos = 10000):"
   ]
  },
  {
   "cell_type": "code",
   "execution_count": 3,
   "metadata": {},
   "outputs": [],
   "source": [
    "from tensorflow import keras"
   ]
  }
 ],
 "metadata": {
  "kernelspec": {
   "display_name": "Python 3",
   "language": "python",
   "name": "python3"
  },
  "language_info": {
   "codemirror_mode": {
    "name": "ipython",
    "version": 3
   },
   "file_extension": ".py",
   "mimetype": "text/x-python",
   "name": "python",
   "nbconvert_exporter": "python",
   "pygments_lexer": "ipython3",
   "version": "3.8.5"
  }
 },
 "nbformat": 4,
 "nbformat_minor": 4
}
