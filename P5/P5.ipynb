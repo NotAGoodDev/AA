{
 "cells": [
  {
   "cell_type": "markdown",
   "id": "grave-audio",
   "metadata": {},
   "source": [
    "## Imports"
   ]
  },
  {
   "cell_type": "code",
   "execution_count": 1,
   "id": "parallel-convert",
   "metadata": {},
   "outputs": [],
   "source": [
    "import numpy as np\n",
    "import matplotlib.pyplot as plt\n",
    "import scipy.optimize as opt\n",
    "\n",
    "from scipy.io import loadmat"
   ]
  },
  {
   "cell_type": "markdown",
   "id": "emerging-anime",
   "metadata": {},
   "source": [
    "## Cargar datos"
   ]
  },
  {
   "cell_type": "code",
   "execution_count": 2,
   "id": "dress-angle",
   "metadata": {},
   "outputs": [],
   "source": [
    "data = loadmat('ex5data1.mat')\n",
    "\n",
    "X = data['X']\n",
    "Y = data['y'].ravel()\n",
    "X_val = data['Xval']\n",
    "Y_val = data['yval'].ravel()\n",
    "X_test = data['Xtest']\n",
    "Y_test = data['ytest'].ravel()\n",
    "\n",
    "m = X.shape[0]\n",
    "X = np.hstack([np.ones([m, 1]), X])\n",
    "m_val = X_val.shape[0]\n",
    "X_val = np.hstack([np.ones([m_val, 1]), X_val])"
   ]
  },
  {
   "cell_type": "markdown",
   "id": "enclosed-shipping",
   "metadata": {},
   "source": [
    "## Regresión Lineal multivariable"
   ]
  },
  {
   "cell_type": "code",
   "execution_count": 3,
   "id": "numerous-moore",
   "metadata": {},
   "outputs": [],
   "source": [
    "def reg_lin_mul_var (theta, X, Y, lambd):\n",
    "    \n",
    "    m = X.shape[0]\n",
    "    n = X.shape[1]\n",
    "    J_theta = 0\n",
    "    gradient = []\n",
    "\n",
    "    H = np.dot(X, theta)\n",
    "    diff = (H - Y)\n",
    "    \n",
    "    # Coste\n",
    "    J_theta = (1 / (2 * m)) * np.sum(np.square(diff))\n",
    "    \n",
    "    # Coste Regularizado\n",
    "    reg = lambd / (2 * m) * np.sum(np.square(theta[1:]))\n",
    "    J_theta += reg\n",
    "\n",
    "    # Gradiente\n",
    "    gradient = (1 / m) * np.sum(diff * X.T, axis=1)\n",
    "    \n",
    "    # Gradiente Regularizada\n",
    "    reg = (lambd/m) * theta[1:]\n",
    "    gradient[1:] += reg\n",
    "\n",
    "\n",
    "    return (J_theta, gradient)"
   ]
  },
  {
   "cell_type": "code",
   "execution_count": 4,
   "id": "corrected-hardwood",
   "metadata": {},
   "outputs": [
    {
     "name": "stdout",
     "output_type": "stream",
     "text": [
      "El coste es:\t\t303.9931922202643\n",
      "La gradiante es:\t[-15.30301567 598.25074417]\n"
     ]
    }
   ],
   "source": [
    "# PRUEBAS\n",
    "theta = np.array([1, 1])\n",
    "lambd = 1\n",
    "cost, gradient = reg_lin_mul_var(theta, X, Y, lambd)\n",
    "print(\"El coste es:\\t\\t{}\\nLa gradiante es:\\t{}\".format(cost, gradient))"
   ]
  },
  {
   "cell_type": "markdown",
   "id": "configured-chain",
   "metadata": {},
   "source": [
    "## Minimize"
   ]
  },
  {
   "cell_type": "code",
   "execution_count": 5,
   "id": "pleased-atmosphere",
   "metadata": {},
   "outputs": [],
   "source": [
    "res = opt.minimize(\n",
    "    fun = reg_lin_mul_var,\n",
    "    x0 = theta,\n",
    "    args=(X, Y, 0),\n",
    "    method='TNC',\n",
    "    jac=True\n",
    ")\n",
    "\n",
    "theta_opt = res.x"
   ]
  },
  {
   "cell_type": "markdown",
   "id": "productive-debate",
   "metadata": {},
   "source": [
    "## Dibujar recta de resultados"
   ]
  },
  {
   "cell_type": "code",
   "execution_count": 6,
   "id": "correct-shade",
   "metadata": {},
   "outputs": [
    {
     "data": {
      "image/png": "[encoded data removed]",
      "text/plain": [
       "<Figure size 432x288 with 1 Axes>"
      ]
     },
     "metadata": {
      "needs_background": "light"
     },
     "output_type": "display_data"
    }
   ],
   "source": [
    "plt.figure()\n",
    "plt.scatter(X[:, 1:], Y, marker='x', c='red')\n",
    "\n",
    "X_min, X_max = np.min(X, axis=0), np.max(X, axis=0)\n",
    "Y_min = np.sum(theta_opt * X_min)\n",
    "Y_max = np.sum(theta_opt * X_max)\n",
    "X_min = X_min[1:]\n",
    "X_max = X_max[1:]\n",
    "\n",
    "plt.plot([X_min, X_max], [Y_min, Y_max])\n",
    "\n",
    "plt.show()"
   ]
  },
  {
   "cell_type": "markdown",
   "id": "senior-scanning",
   "metadata": {},
   "source": [
    "## Dibujar curva de aprendizaje"
   ]
  },
  {
   "cell_type": "code",
   "execution_count": 7,
   "id": "enhanced-developer",
   "metadata": {},
   "outputs": [],
   "source": [
    "def learningErrors(theta, X, Y, X_val, Y_val, lambd = 0):\n",
    "    \"\"\"\n",
    "    Returns the Train error vector and the Cross Validation error vector\n",
    "    \"\"\"\n",
    "    \n",
    "    trainError = []\n",
    "    cvError = []\n",
    "    m = X.shape[0]\n",
    "    \n",
    "    for i in range(1, m + 1):\n",
    "\n",
    "        X_i = X[0:i]\n",
    "        Y_i = Y[0:i]\n",
    "\n",
    "        res = opt.minimize(\n",
    "            fun = reg_lin_mul_var,\n",
    "            x0 = theta,\n",
    "            args=(X_i, Y_i, lambd),\n",
    "            method='TNC',\n",
    "            jac=True\n",
    "        )\n",
    "\n",
    "        trainError.append(reg_lin_mul_var(res.x, X_i, Y_i, lambd)[0])\n",
    "        cvError.append(reg_lin_mul_var(res.x, X_val, Y_val, lambd)[0])\n",
    "        \n",
    "    return np.array(trainError), np.array(cvError)"
   ]
  },
  {
   "cell_type": "code",
   "execution_count": 8,
   "id": "adverse-proof",
   "metadata": {},
   "outputs": [],
   "source": [
    "def printLearningErrors(trainError, cvError):\n",
    "    \"\"\"\n",
    "    Prints the Train error and the Cross Validation\n",
    "    Doesnt return anything\n",
    "    \"\"\"\n",
    "    \n",
    "    plt.figure()\n",
    "    \n",
    "    r = range(0, len(trainError))\n",
    "\n",
    "    plt.plot(r, trainError)\n",
    "    plt.plot(r, cvError)\n",
    "    plt.legend(['Train', 'Cross Validation'])\n",
    "\n",
    "    plt.show()"
   ]
  },
  {
   "cell_type": "code",
   "execution_count": 9,
   "id": "toxic-heavy",
   "metadata": {},
   "outputs": [
    {
     "data": {
      "image/png": "[encoded data removed]",
      "text/plain": [
       "<Figure size 432x288 with 1 Axes>"
      ]
     },
     "metadata": {
      "needs_background": "light"
     },
     "output_type": "display_data"
    }
   ],
   "source": [
    "trainError, cvError = learningErrors(theta, X, Y, X_val, Y_val)\n",
    "printLearningErrors(trainError, cvError)"
   ]
  },
  {
   "cell_type": "markdown",
   "id": "about-spending",
   "metadata": {},
   "source": [
    "# Regresion Polinomial"
   ]
  },
  {
   "cell_type": "markdown",
   "id": "least-dallas",
   "metadata": {},
   "source": [
    "## Cargar datos"
   ]
  },
  {
   "cell_type": "code",
   "execution_count": 10,
   "id": "physical-alpha",
   "metadata": {},
   "outputs": [],
   "source": [
    "data = loadmat('ex5data1.mat')\n",
    "\n",
    "X = data['X']\n",
    "Y = data['y'].ravel()\n",
    "X_val = data['Xval']\n",
    "Y_val = data['yval'].ravel()\n",
    "X_test = data['Xtest']\n",
    "Y_test = data['ytest'].ravel()\n",
    "\n",
    "m = X.shape[0]\n",
    "m_val = X_val.shape[0]"
   ]
  },
  {
   "cell_type": "markdown",
   "id": "chicken-diary",
   "metadata": {},
   "source": [
    "## Polynomial data"
   ]
  },
  {
   "cell_type": "code",
   "execution_count": 11,
   "id": "tight-sociology",
   "metadata": {},
   "outputs": [],
   "source": [
    "def poly_data(X, p=1):\n",
    "    \"\"\"\n",
    "    INPUT: Matix (m, 1) && p\n",
    "    OUTPUT: Matrix (m, p)\n",
    "    \"\"\"\n",
    "    res = np.zeros((X.shape[0], p))\n",
    "        \n",
    "    for i in range(0, p):\n",
    "        res[:, i] = X ** (i + 1)\n",
    "    \n",
    "    return res"
   ]
  },
  {
   "cell_type": "markdown",
   "id": "settled-johnson",
   "metadata": {},
   "source": [
    "## Normalize"
   ]
  },
  {
   "cell_type": "code",
   "execution_count": 12,
   "id": "divine-venice",
   "metadata": {},
   "outputs": [],
   "source": [
    "def normalize(X):\n",
    "    m = X.shape[0]\n",
    "    mu = np.array([np.mean(X, axis = 0)])\n",
    "    sigma = np.array([np.std(X, axis = 0)])\n",
    "    X_norm = np.divide(np.subtract(X, mu), sigma)\n",
    "    \n",
    "    X_norm = np.hstack([np.ones([m, 1]), X_norm])\n",
    "\n",
    "    return X_norm, mu, sigma"
   ]
  },
  {
   "cell_type": "code",
   "execution_count": 13,
   "id": "after-liberia",
   "metadata": {},
   "outputs": [],
   "source": [
    "def normalize_with_values(X, mu, sigma):\n",
    "    m = X.shape[0]\n",
    "\n",
    "    X_norm = np.divide(np.subtract(X, mu), sigma)    \n",
    "    X_norm = np.hstack([np.ones([m, 1]), X_norm])\n",
    "\n",
    "    return X_norm"
   ]
  },
  {
   "cell_type": "markdown",
   "id": "resident-chamber",
   "metadata": {},
   "source": [
    "## Minimize"
   ]
  },
  {
   "cell_type": "code",
   "execution_count": 14,
   "id": "authentic-roman",
   "metadata": {},
   "outputs": [],
   "source": [
    "p = 8\n",
    "theta = np.zeros(p + 1)\n",
    "lambd = 0\n",
    "\n",
    "X_poly = poly_data(X.ravel(), p)\n",
    "X_poly_norm, mu, sigma = normalize(X_poly)\n",
    "\n",
    "res = opt.minimize(\n",
    "    fun = reg_lin_mul_var,\n",
    "    x0 = theta,\n",
    "    args=(X_poly_norm, Y, lambd),\n",
    "    method='TNC',\n",
    "    jac=True\n",
    ")\n",
    "\n",
    "theta_opt = res.x"
   ]
  },
  {
   "cell_type": "markdown",
   "id": "laughing-hamilton",
   "metadata": {},
   "source": [
    "## Dibujar recta de resultados"
   ]
  },
  {
   "cell_type": "code",
   "execution_count": 15,
   "id": "electronic-teddy",
   "metadata": {
    "scrolled": true
   },
   "outputs": [
    {
     "data": {
      "image/png": "[encoded data removed]",
      "text/plain": [
       "<Figure size 432x288 with 1 Axes>"
      ]
     },
     "metadata": {
      "needs_background": "light"
     },
     "output_type": "display_data"
    }
   ],
   "source": [
    "# Range of values -> -5 and +5 to show beyond the actual data\n",
    "ranX = np.arange(\n",
    "    np.min(X) - 5,\n",
    "    np.max(X) + 5,\n",
    "    .05\n",
    ")\n",
    "\n",
    "# Need to normalize with mu and sigma\n",
    "ranX_poly_norm = normalize_with_values(poly_data(ranX, p), mu, sigma)\n",
    "\n",
    "# Predict values\n",
    "Y_hat = np.dot(ranX_poly_norm, theta_opt)\n",
    "\n",
    "# Plot the figure\n",
    "plt.figure()\n",
    "plt.scatter(X, Y, marker='x', c='red')\n",
    "plt.plot(ranX, Y_hat)\n",
    "plt.show()"
   ]
  },
  {
   "cell_type": "markdown",
   "id": "twenty-survivor",
   "metadata": {},
   "source": [
    "## Dibujar la curva de aprendizaje"
   ]
  },
  {
   "cell_type": "code",
   "execution_count": 16,
   "id": "blocked-locator",
   "metadata": {
    "scrolled": true
   },
   "outputs": [
    {
     "data": {
      "image/png": "[encoded data removed]",
      "text/plain": [
       "<Figure size 432x288 with 1 Axes>"
      ]
     },
     "metadata": {
      "needs_background": "light"
     },
     "output_type": "display_data"
    }
   ],
   "source": [
    "X_poly_norm, mu, sigma = normalize(poly_data(X.ravel(), p))\n",
    "\n",
    "# Need to normalize with mu and sigma\n",
    "X_val_poly_norm = normalize_with_values(\n",
    "    poly_data(X_val.ravel(), p),\n",
    "    mu,\n",
    "    sigma\n",
    ")\n",
    "\n",
    "trainError, cvError = learningErrors(theta,\n",
    "                                     X_poly_norm,\n",
    "                                     Y,\n",
    "                                     X_val_poly_norm,\n",
    "                                     Y_val,\n",
    "                                     0\n",
    "                                    )\n",
    "\n",
    "printLearningErrors(trainError, cvError)"
   ]
  },
  {
   "cell_type": "markdown",
   "id": "useful-contamination",
   "metadata": {},
   "source": [
    "## Parámetro lambda"
   ]
  },
  {
   "cell_type": "code",
   "execution_count": 17,
   "id": "armed-shooting",
   "metadata": {
    "scrolled": true
   },
   "outputs": [
    {
     "data": {
      "image/png": "[encoded data removed]",
      "text/plain": [
       "<Figure size 432x288 with 1 Axes>"
      ]
     },
     "metadata": {
      "needs_background": "light"
     },
     "output_type": "display_data"
    }
   ],
   "source": [
    "lambdas = [ 0, .001, .003, .01, .03, .1, .3, 1, 3, 10 ]\n",
    "p = 8\n",
    "trainError_vector = []\n",
    "cvError_vector = []\n",
    "\n",
    "plt.figure()\n",
    "\n",
    "X_poly_norm, mu, sigma = normalize(poly_data(X.ravel(), p))\n",
    "\n",
    "X_val_poly_norm = normalize_with_values(\n",
    "    poly_data(X_val.ravel(), p),\n",
    "    mu,\n",
    "    sigma\n",
    ")\n",
    "\n",
    "\n",
    "for lambd in lambdas:\n",
    "    theta = np.zeros(p + 1)\n",
    "    \n",
    "    res = opt.minimize(\n",
    "        fun = reg_lin_mul_var,\n",
    "        x0 = theta,\n",
    "        args=(X_poly_norm, Y, lambd),\n",
    "        method='TNC',\n",
    "        jac=True,\n",
    "    )\n",
    "    \n",
    "    theta_opt = res.x\n",
    "        \n",
    "    trainError_vector.append(reg_lin_mul_var(theta_opt, X_poly_norm, Y, 0)[0])\n",
    "    cvError_vector.append(reg_lin_mul_var(theta_opt, X_val_poly_norm, Y_val, 0)[0])\n",
    "    \n",
    "plt.plot(lambdas, trainError_vector, label=\"Train\")\n",
    "plt.plot(lambdas, cvError_vector, label=\"Cross Validation\")\n",
    "plt.legend()\n",
    "plt.show()"
   ]
  },
  {
   "cell_type": "code",
   "execution_count": 18,
   "id": "respiratory-belarus",
   "metadata": {},
   "outputs": [
    {
     "data": {
      "text/plain": [
       "3.572044856986457"
      ]
     },
     "execution_count": 18,
     "metadata": {},
     "output_type": "execute_result"
    }
   ],
   "source": [
    "lambd_opt = 3\n",
    "p = 8\n",
    "theta = np.zeros(p + 1)\n",
    "\n",
    "X_poly_norm, mu, sigma = normalize(poly_data(X.ravel(), p))\n",
    "\n",
    "res = opt.minimize(\n",
    "    fun = reg_lin_mul_var,\n",
    "    x0 = theta,\n",
    "    args=(X_poly_norm, Y, lambd_opt),\n",
    "    method='TNC',\n",
    "    jac=True,\n",
    ")\n",
    "\n",
    "X_test_poly_norm = normalize_with_values(\n",
    "    poly_data(X_test.ravel(), p),\n",
    "    mu,\n",
    "    sigma\n",
    ")\n",
    "\n",
    "reg_lin_mul_var(res.x, X_test_poly_norm, Y_test, 0)[0]"
   ]
  }
 ],
 "metadata": {
  "kernelspec": {
   "display_name": "Python 3",
   "language": "python",
   "name": "python3"
  },
  "language_info": {
   "codemirror_mode": {
    "name": "ipython",
    "version": 3
   },
   "file_extension": ".py",
   "mimetype": "text/x-python",
   "name": "python",
   "nbconvert_exporter": "python",
   "pygments_lexer": "ipython3",
   "version": "3.8.5"
  }
 },
 "nbformat": 4,
 "nbformat_minor": 5
}
